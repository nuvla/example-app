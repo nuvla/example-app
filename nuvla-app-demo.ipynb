{
"cells": [
{
"cell_type": "code",
"execution_count": null,
"metadata": {},
"outputs": [],
"source": [
"# Fetch nginx page with page info. Stack inter-stack services can communicate by their names.\
",
"\
",
"import urllib.request\
",
"f = urllib.request.urlopen(\\"http://nginx_simple\\")\
",
"print(f.read())"
]
},
{
"cell_type": "code",
"execution_count": null,
"metadata": {},
"outputs": [],
"source": [
"pip install nuvla-api"
]
},
{
"cell_type": "code",
"execution_count": null,
"metadata": {},
"outputs": [],
"source": [
"import os\
",
"\
",
"#\
",
"# Read the configuration from the environment.\
",
"#\
",
"\
",
"endpoint = os.getenv('NUVLA_ENDPOINT')\
",
"api_key = os.getenv('NUVLA_API_KEY')\
",
"api_secret = os.getenv('NUVLA_API_SECRET')\
",
"deployment_id = os.getenv('NUVLA_DEPLOYMENT_ID')\
",
"\
",
"#\
",
"# Ensure complete environment or bail out.\
",
"#\
",
"\
",
"if (endpoint is None or\
",
"    api_key is None or\
",
"    api_secret is None or\
",
"    deployment_id is None):\
",
"  print(\\"Missing required configuration information; skipping nuvla integration...\\")\
",
"else:\
",
"    print('Your are using Nuvla: {}'.format(endpoint))\
",
"    print('Your deployment ID is: {}'.format(deployment_id))\
",
"    print('Your deployment can access your objects on Nuvla by login with token: {}'.format(api_key))\
"
]
},
{
"cell_type": "code",
"execution_count": null,
"metadata": {
"scrolled": true
},
"outputs": [],
"source": [
"from nuvla.api import Api\
",
"\
",
"#\
",
"# setup the Nuvla API\
",
"#\
",
"\
",
"api = Api(endpoint=endpoint, insecure=True)\
",
"api.login_apikey(api_key, api_secret)\
",
"\
",
"print('Token roles are following:\\\
\\\
{}'.format(api.get('session').data['resources'][0].get('roles').split(' ')))\
",
"\
",
"# Recover deployment information. \
",
"\
",
"deployment = api.get(deployment_id)\
",
"\
",
"print('\\\
\\\
Deployment info:\\\
')\
",
"print(deployment)\
"
]
},
{
"cell_type": "code",
"execution_count": null,
"metadata": {},
"outputs": [],
"source": [
"param = api.search('deployment-parameter', filter='parent=\\"{}\\" and name=\\"edit-me\\"'.format(deployment_id)).data['resources'][0]\
",
"param"
]
},
{
"cell_type": "code",
"execution_count": null,
"metadata": {},
"outputs": [],
"source": [
"param_id = param['id']\
",
"param_value = param.get('value')\
",
"print(param_value)"
]
},
{
"cell_type": "code",
"execution_count": null,
"metadata": {},
"outputs": [],
"source": [
"api.edit(param_id, {'value': 'yes, I can edit this param'})\
",
"print('Check in Nuvla UI if this parameter value changed to: {}'.format(api.get(param_id).data['value']))"
]
},
{
"cell_type": "code",
"execution_count": null,
"metadata": {},
"outputs": [],
"source": []
}
],
"metadata": {
"kernelspec": {
"display_name": "Python 3",
"language": "python",
"name": "python3"
},
"language_info": {
"codemirror_mode": {
"name": "ipython",
"version": 3
},
"file_extension": ".py",
"mimetype": "text/x-python",
"name": "python",
"nbconvert_exporter": "python",
"pygments_lexer": "ipython3",
"version": "3.7.3"
}
},
"nbformat": 4,
"nbformat_minor": 2
}


