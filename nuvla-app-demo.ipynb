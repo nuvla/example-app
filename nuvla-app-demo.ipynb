{
 "cells": [
  {
   "cell_type": "code",
   "execution_count": null,
   "metadata": {},
   "outputs": [],
   "source": [
    "# Fetch nginx page with page info. Stack inter-stack services can communicate by their names.\n",
    "\n",
    "import urllib.request\n",
    "f = urllib.request.urlopen(\"http://nginx_simple\")\n",
    "print(f.read())"
   ]
  },
  {
   "cell_type": "code",
   "execution_count": null,
   "metadata": {},
   "outputs": [],
   "source": [
    "pip install nuvla-api"
   ]
  },
  {
   "cell_type": "code",
   "execution_count": null,
   "metadata": {},
   "outputs": [],
   "source": [
    "import os\n",
    "\n",
    "#\n",
    "# Read the configuration from the environment.\n",
    "#\n",
    "\n",
    "endpoint = os.getenv('NUVLA_ENDPOINT')\n",
    "api_key = os.getenv('NUVLA_API_KEY')\n",
    "api_secret = os.getenv('NUVLA_API_SECRET')\n",
    "deployment_id = os.getenv('NUVLA_DEPLOYMENT_ID')\n",
    "\n",
    "#\n",
    "# Ensure complete environment or bail out.\n",
    "#\n",
    "\n",
    "if (endpoint is None or\n",
    "    api_key is None or\n",
    "    api_secret is None or\n",
    "    deployment_id is None):\n",
    "  print(\"Missing required configuration information; skipping nuvla integration...\")\n",
    "else:\n",
    "    print('Your are using Nuvla: {}'.format(endpoint))\n",
    "    print('Your deployment ID is: {}'.format(deployment_id))\n",
    "    print('Your deployment can access your objects on Nuvla by login with token: {}'.format(api_key))\n"
   ]
  },
  {
   "cell_type": "code",
   "execution_count": null,
   "metadata": {
    "scrolled": true
   },
   "outputs": [],
   "source": [
    "from nuvla.api import Api\n",
    "\n",
    "#\n",
    "# setup the Nuvla API\n",
    "#\n",
    "\n",
    "api = Api(endpoint=endpoint, insecure=True)\n",
    "api.login_apikey(api_key, api_secret)\n",
    "\n",
    "print('Token roles are following:\\n\\n{}'.format(api.get('session').data['resources'][0].get('roles').split(' ')))\n",
    "\n",
    "# Recover deployment information. \n",
    "\n",
    "deployment = api.get(deployment_id)\n",
    "\n",
    "print('\\n\\nDeployment info:\\n')\n",
    "print(deployment)\n"
   ]
  },
  {
   "cell_type": "code",
   "execution_count": null,
   "metadata": {},
   "outputs": [],
   "source": [
    "param = api.search('deployment-parameter', filter='parent=\"{}\" and name=\"edit-me\"'.format(deployment_id)).data['resources'][0]\n",
    "param"
   ]
  },
  {
   "cell_type": "code",
   "execution_count": null,
   "metadata": {},
   "outputs": [],
   "source": [
    "param_id = param['id']\n",
    "param_value = param.get('value')\n",
    "print(param_value)"
   ]
  },
  {
   "cell_type": "code",
   "execution_count": null,
   "metadata": {},
   "outputs": [],
   "source": [
    "api.edit(param_id, {'value': 'yes, I can edit this param'})\n",
    "print('Check in Nuvla UI if this parameter value changed to: {}'.format(api.get(param_id).data['value']))"
   ]
  },
  {
   "cell_type": "code",
   "execution_count": null,
   "metadata": {},
   "outputs": [],
   "source": []
  }
 ],
 "metadata": {
  "kernelspec": {
   "display_name": "Python 3",
   "language": "python",
   "name": "python3"
  },
  "language_info": {
   "codemirror_mode": {
    "name": "ipython",
    "version": 3
   },
   "file_extension": ".py",
   "mimetype": "text/x-python",
   "name": "python",
   "nbconvert_exporter": "python",
   "pygments_lexer": "ipython3",
   "version": "3.7.3"
  }
 },
 "nbformat": 4,
 "nbformat_minor": 2
}
